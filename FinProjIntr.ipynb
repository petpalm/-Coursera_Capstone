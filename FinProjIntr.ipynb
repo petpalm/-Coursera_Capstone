{
 "cells": [
  {
   "cell_type": "markdown",
   "metadata": {},
   "source": [
    "# Introduction\n",
    "\n",
    "P. James, an electrician with over a decade of experience, wants to start an electrical company in Central Florida. He has done work before in Osceola and Orange counties, counties in Central Florida, but he is not sure which one of these counties is the best place to set up an office. It is possible, with the relevant licenses, for an electrical company to be located in one county but the electrician does work in another county, or several other counties. Therefore, the main concern that Mr. James has is not about the competition from other electrical companies nor the potential to find customers, but about where the office should be headquartered."
   ]
  },
  {
   "cell_type": "markdown",
   "metadata": {},
   "source": [
    "# Business problem\n",
    "\n",
    "The objective is to help Mr. James make the best decision, about office space, by using the Foursquare location data. We intend to provide Mr. James with several different options, by considering data science methodology and machine learning techniques, so that he can make his decision. With those tools we will try to answer the question: can we use Foursquare data to determine the best neighborhood for Mr. James to set up an electrical company?  "
   ]
  },
  {
   "cell_type": "markdown",
   "metadata": {},
   "source": [
    "# Data\n",
    "\n",
    "In order to answer the question, we will need the list of neighborhoods in Osceola county (which can be found at the webpage https://www.zip-codes.com/county/fl-osceola.asp) and Orange county (which can be found at the webpage https://www.zip-codes.com/county/fl-orange.asp). The two webpages give the zip codes, classification, city, population, and area codes. We will use web scraping techniques in Python to access the information, and use preprocessing with pandas to get only the essential part of the data. We will also need the latitude and longitude of the neighborhoods so maps can be plotted and markers will be placed on these maps so that the different clusters can be visualized. The Foursquare API will help us with information that can be used to drill down on the neighborhoods, surrounding venues, amenities and so on. Therefore, we will use web scraping techniques, geocoder package, and Foursquare API to answer our objective question.    "
   ]
  },
  {
   "cell_type": "code",
   "execution_count": null,
   "metadata": {},
   "outputs": [],
   "source": []
  }
 ],
 "metadata": {
  "kernelspec": {
   "display_name": "Python",
   "language": "python",
   "name": "conda-env-python-py"
  },
  "language_info": {
   "codemirror_mode": {
    "name": "ipython",
    "version": 3
   },
   "file_extension": ".py",
   "mimetype": "text/x-python",
   "name": "python",
   "nbconvert_exporter": "python",
   "pygments_lexer": "ipython3",
   "version": "3.6.7"
  }
 },
 "nbformat": 4,
 "nbformat_minor": 4
}
